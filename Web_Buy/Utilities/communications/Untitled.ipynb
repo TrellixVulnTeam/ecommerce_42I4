{
 "cells": [
  {
   "cell_type": "code",
   "execution_count": 2,
   "id": "electoral-simulation",
   "metadata": {},
   "outputs": [
    {
     "name": "stdout",
     "output_type": "stream",
     "text": [
      "Kabelo\n",
      "Masemola\n"
     ]
    }
   ],
   "source": [
    "def func1(name, surname):\n",
    "    print(name)\n",
    "    print(surname)\n",
    "    \n",
    "func1(\"Kabelo\",\"Masemola\")"
   ]
  },
  {
   "cell_type": "code",
   "execution_count": 8,
   "id": "behavioral-specification",
   "metadata": {},
   "outputs": [
    {
     "name": "stdout",
     "output_type": "stream",
     "text": [
      "Phindiwe\n",
      "masemola\n"
     ]
    }
   ],
   "source": [
    "kwarg = {\"name\":\"Phindiwe\",\"surname\":\"masemola\"}\n",
    "args = [\"richard\",\"masemola\"]\n",
    "func1(**kwarg)\n",
    "# func1(*args)"
   ]
  },
  {
   "cell_type": "code",
   "execution_count": null,
   "id": "living-contents",
   "metadata": {},
   "outputs": [],
   "source": []
  }
 ],
 "metadata": {
  "kernelspec": {
   "display_name": "Python 3",
   "language": "python",
   "name": "python3"
  },
  "language_info": {
   "codemirror_mode": {
    "name": "ipython",
    "version": 3
   },
   "file_extension": ".py",
   "mimetype": "text/x-python",
   "name": "python",
   "nbconvert_exporter": "python",
   "pygments_lexer": "ipython3",
   "version": "3.8.5"
  }
 },
 "nbformat": 4,
 "nbformat_minor": 5
}
